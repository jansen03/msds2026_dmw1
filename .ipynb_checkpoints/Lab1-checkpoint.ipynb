{
 "cells": [
  {
   "cell_type": "markdown",
   "id": "38c85ebd-3743-4bc4-8e42-44f12a00dc34",
   "metadata": {
    "execution": {
     "iopub.execute_input": "2025-10-11T14:33:02.259213Z",
     "iopub.status.busy": "2025-10-11T14:33:02.258519Z",
     "iopub.status.idle": "2025-10-11T14:33:02.266510Z",
     "shell.execute_reply": "2025-10-11T14:33:02.265080Z",
     "shell.execute_reply.started": "2025-10-11T14:33:02.259151Z"
    }
   },
   "source": [
    "# Lab 1: Fishery"
   ]
  },
  {
   "cell_type": "code",
   "execution_count": 2,
   "id": "b375917d-edbc-47cc-a13b-767b7f0e0057",
   "metadata": {
    "execution": {
     "iopub.execute_input": "2025-10-11T14:56:26.782986Z",
     "iopub.status.busy": "2025-10-11T14:56:26.782276Z",
     "iopub.status.idle": "2025-10-11T14:56:26.790717Z",
     "shell.execute_reply": "2025-10-11T14:56:26.789349Z",
     "shell.execute_reply.started": "2025-10-11T14:56:26.782926Z"
    }
   },
   "outputs": [
    {
     "name": "stdout",
     "output_type": "stream",
     "text": [
      "1234\n"
     ]
    }
   ],
   "source": [
    "print(1234)"
   ]
  }
 ],
 "metadata": {
  "kernelspec": {
   "display_name": "Python [conda env:base] *",
   "language": "python",
   "name": "conda-base-py"
  },
  "language_info": {
   "codemirror_mode": {
    "name": "ipython",
    "version": 3
   },
   "file_extension": ".py",
   "mimetype": "text/x-python",
   "name": "python",
   "nbconvert_exporter": "python",
   "pygments_lexer": "ipython3",
   "version": "3.12.8"
  }
 },
 "nbformat": 4,
 "nbformat_minor": 5
}
